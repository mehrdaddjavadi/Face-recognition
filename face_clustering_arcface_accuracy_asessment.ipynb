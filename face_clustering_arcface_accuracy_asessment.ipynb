{
 "cells": [
  {
   "cell_type": "code",
   "execution_count": 1,
   "id": "7642dc0e",
   "metadata": {},
   "outputs": [],
   "source": [
    "# !pip install -U insightface\n",
    "\n",
    "import torch\n",
    "# if torch.cuda.is_available():\n",
    "#   print('gpu is available')\n",
    "#   !pip install onnxruntime-gpu==1.9.0   # to use GPU\n",
    "# else:\n",
    "#   print('gpu is not available')\n",
    "#   !pip install onnxruntime"
   ]
  },
  {
   "cell_type": "code",
   "execution_count": null,
   "id": "af63212c",
   "metadata": {},
   "outputs": [
    {
     "name": "stdout",
     "output_type": "stream",
     "text": [
      "Applied providers: ['CPUExecutionProvider'], with options: {'CPUExecutionProvider': {}}\n",
      "find model: /home/kali/.insightface/models/buffalo_l/1k3d68.onnx landmark_3d_68 ['None', 3, 192, 192] 0.0 1.0\n",
      "Applied providers: ['CPUExecutionProvider'], with options: {'CPUExecutionProvider': {}}\n",
      "find model: /home/kali/.insightface/models/buffalo_l/2d106det.onnx landmark_2d_106 ['None', 3, 192, 192] 0.0 1.0\n"
     ]
    }
   ],
   "source": [
    "from insightface.app import FaceAnalysis\n",
    "\n",
    "\n",
    "app = FaceAnalysis()\n",
    "app.prepare(ctx_id=0, det_thresh=0.5)"
   ]
  },
  {
   "cell_type": "code",
   "execution_count": null,
   "id": "7987546f",
   "metadata": {},
   "outputs": [],
   "source": [
    "import os\n",
    "import cv2\n",
    "import numpy as np\n",
    "\n",
    "dataset_path = '/home/kali/Desktop/face_cup/datasets/sample_lfw_images/'\n",
    "files = os.listdir(dataset_path)\n",
    "\n",
    "accepted_files = []\n",
    "features = []\n",
    "labels = []\n",
    "reject_labels = []\n",
    "counter = 1\n",
    "for file in files:\n",
    "  if not file.endswith('.jpg'):\n",
    "    continue\n",
    "  print('prosessing image %d: %s'%(counter,file))\n",
    "    \n",
    "  img = cv2.imread(os.path.join(dataset_path, file))\n",
    "  faces = app.get(img)\n",
    "  if len(faces) > 0:\n",
    "    features.append(faces[0].normed_embedding)\n",
    "    accepted_files.append(file)\n",
    "    labels.append(int(file[1:3]))\n",
    "  else:\n",
    "    reject_labels.append(int(file[1:3]))\n",
    "  \n",
    "  counter+=1\n",
    "\n",
    "labels += reject_labels # add images without face detection\n",
    "print('number of images without face: %d' % len(reject_labels))"
   ]
  },
  {
   "cell_type": "code",
   "execution_count": null,
   "id": "53eb841a",
   "metadata": {},
   "outputs": [],
   "source": [
    "from sklearn import metrics\n",
    "\n",
    "def calculate_f_measure(labels_true, labels_pred, beta=1.0):\n",
    "  [[tn, fp], [fn, tp]] = metrics.cluster.pair_confusion_matrix(labels_true, labels_pred)\n",
    "  precision = tp/(tp + fp)\n",
    "  recall = tp/(tp + fn)\n",
    "  f_measure = (beta*beta + 1)*precision*recall/(beta*beta*precision + recall)\n",
    "  return f_measure\n",
    "\n",
    "def evaluate_clustering(labels, predictions, beta=1.0):\n",
    "  rand_index = metrics.rand_score(labels, predictions)\n",
    "  nmi = metrics.normalized_mutual_info_score(labels, predictions)\n",
    "  f_measure = calculate_f_measure(labels, predictions, beta=beta)\n",
    "  print('Rand Index: %f, NMI: %f, F-measure: %f' % (rand_index, nmi, f_measure))\n",
    "  return"
   ]
  },
  {
   "cell_type": "code",
   "execution_count": 5,
   "id": "70be55f8",
   "metadata": {},
   "outputs": [
    {
     "name": "stdout",
     "output_type": "stream",
     "text": [
      "num of clusters: 63\n",
      "Rand Index: 0.975764, NMI: 0.882530, F-measure: 0.708727\n"
     ]
    }
   ],
   "source": [
    "from sklearn import cluster\n",
    "k = 40 # set the number of clusters\n",
    "y_pred = cluster.KMeans(n_clusters=k, random_state=0).fit_predict(features)\n",
    "y_pred_compelet = list(y_pred) + list(range(max(y_pred)+1,max(y_pred)+len(reject_labels)+1))\n",
    "print('num of clusters: %d' % (max(y_pred_compelet)+1))\n",
    "evaluate_clustering(labels, y_pred_compelet)"
   ]
  },
  {
   "cell_type": "code",
   "execution_count": 6,
   "id": "6f16e361",
   "metadata": {},
   "outputs": [
    {
     "name": "stdout",
     "output_type": "stream",
     "text": [
      "num of clusters: 83\n",
      "Rand Index: 0.994733, NMI: 0.959152, F-measure: 0.946191\n"
     ]
    }
   ],
   "source": [
    "\n",
    "\n",
    "y_pred = cluster.DBSCAN(eps=1.14, min_samples=2).fit_predict(features)\n",
    "\n",
    "# remove noise label from the output:\n",
    "# (assign a separate cluster label for each noise image)\n",
    "c_id = max(y_pred)+1\n",
    "for i, y in enumerate(y_pred):\n",
    "  if y == -1:\n",
    "    y_pred[i] = c_id\n",
    "    c_id += 1\n",
    "\n",
    "y_pred_compelet = list(y_pred) + list(range(max(y_pred)+1,max(y_pred)+len(reject_labels)+1))\n",
    "print('num of clusters: %d' % (max(y_pred_compelet)+1))\n",
    "evaluate_clustering(labels, y_pred_compelet)\n",
    "\n"
   ]
  },
  {
   "cell_type": "code",
   "execution_count": 7,
   "id": "24a02224",
   "metadata": {},
   "outputs": [
    {
     "name": "stdout",
     "output_type": "stream",
     "text": [
      "num of clusters: 83\n",
      "Rand Index: 0.994733, NMI: 0.959152, F-measure: 0.946191\n"
     ]
    }
   ],
   "source": [
    "y_pred = cluster.AgglomerativeClustering(n_clusters=None, distance_threshold=1.14, linkage='single').fit_predict(features)\n",
    "y_pred_compelet = list(y_pred) + list(range(max(y_pred)+1,max(y_pred)+len(reject_labels)+1))\n",
    "print('num of clusters: %d' % (max(y_pred_compelet)+1))\n",
    "evaluate_clustering(labels, y_pred_compelet)"
   ]
  },
  {
   "cell_type": "code",
   "execution_count": 9,
   "id": "05689e8b",
   "metadata": {},
   "outputs": [],
   "source": [
    "import numpy as np\n",
    "\n",
    "def match(template1, template2, metric='Euclidean'):\n",
    "    # assert (template1.size == 512)\n",
    "    # assert (template2.size == 512)\n",
    "    assert (template1.size == template2.size)\n",
    "\n",
    "    if metric == 'Euclidean':\n",
    "        # Euclidean distance\n",
    "        diff = np.subtract(template1, template2)\n",
    "        return np.sqrt(np.sum(np.square(diff)))\n",
    "    elif metric == 'Cosine':\n",
    "        # Cosine Similarity\n",
    "        return np.dot(template1, template2.T)\n",
    "    else:\n",
    "        raise Exception(\"input metric must be Euclidean or Cosine!\")"
   ]
  },
  {
   "cell_type": "code",
   "execution_count": 10,
   "id": "5459db97",
   "metadata": {},
   "outputs": [],
   "source": [
    "\n",
    "\n",
    "# re-implement this part of code to reduce run-time:\n",
    "n = len(features)\n",
    "distance_matrix = np.empty([n, n])\n",
    "for i, feature in enumerate(features):\n",
    "  for j in range(i+1, n): # distance[i, j] == distance [j, i]\n",
    "    distance_matrix[i, j] = match(feature, features[j])\n",
    "    # distance_matrix[i, j] = match(feature, features[j], metric='Cosine') # precomputed --> a distance matrix is needed\n",
    "\n"
   ]
  },
  {
   "cell_type": "code",
   "execution_count": 11,
   "id": "d92f3f8c",
   "metadata": {},
   "outputs": [
    {
     "name": "stdout",
     "output_type": "stream",
     "text": [
      "num of clusters: 83\n",
      "Rand Index: 0.994733, NMI: 0.959152, F-measure: 0.946191\n"
     ]
    }
   ],
   "source": [
    "\n",
    "\n",
    "# affinity='precomputed'\n",
    "y_pred = cluster.AgglomerativeClustering(n_clusters=None, distance_threshold=1.14, linkage='single', affinity='precomputed').fit_predict(distance_matrix)\n",
    "y_pred_compelet = list(y_pred) + list(range(max(y_pred)+1,max(y_pred)+len(reject_labels)+1))\n",
    "print('num of clusters: %d' % (max(y_pred_compelet)+1))\n",
    "evaluate_clustering(labels, y_pred_compelet)\n",
    "\n"
   ]
  },
  {
   "cell_type": "code",
   "execution_count": null,
   "id": "026ba113",
   "metadata": {},
   "outputs": [],
   "source": []
  }
 ],
 "metadata": {
  "kernelspec": {
   "display_name": "Python 3 (ipykernel)",
   "language": "python",
   "name": "python3"
  },
  "language_info": {
   "codemirror_mode": {
    "name": "ipython",
    "version": 3
   },
   "file_extension": ".py",
   "mimetype": "text/x-python",
   "name": "python",
   "nbconvert_exporter": "python",
   "pygments_lexer": "ipython3",
   "version": "3.9.6"
  }
 },
 "nbformat": 4,
 "nbformat_minor": 5
}
